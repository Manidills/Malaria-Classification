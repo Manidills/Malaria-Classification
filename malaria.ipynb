{
  "nbformat": 4,
  "nbformat_minor": 0,
  "metadata": {
    "colab": {
      "name": "Untitled15.ipynb",
      "provenance": [],
      "collapsed_sections": []
    },
    "kernelspec": {
      "name": "python3",
      "display_name": "Python 3"
    },
    "accelerator": "TPU"
  },
  "cells": [
    {
      "cell_type": "code",
      "metadata": {
        "id": "Z_Si2cBu5Okv",
        "colab_type": "code",
        "colab": {}
      },
      "source": [
        "import numpy as np\n",
        "import matplotlib.pyplot as plt\n",
        "%matplotlib inline"
      ],
      "execution_count": 0,
      "outputs": []
    },
    {
      "cell_type": "code",
      "metadata": {
        "id": "nWKePo-K5eJS",
        "colab_type": "code",
        "colab": {}
      },
      "source": [
        "from keras.models import Sequential\n",
        "from keras.layers import Flatten,Dense,Conv2D, MaxPool2D,Dropout\n",
        "from keras.preprocessing.image import ImageDataGenerator"
      ],
      "execution_count": 0,
      "outputs": []
    },
    {
      "cell_type": "code",
      "metadata": {
        "id": "wvz1bStY57Pf",
        "colab_type": "code",
        "colab": {
          "base_uri": "https://localhost:8080/",
          "height": 156
        },
        "outputId": "2a86251e-1a9f-4a26-b51e-e153873a46eb"
      },
      "source": [
        
      ],
      "execution_count": 5,
      "outputs": [
        {
          "output_type": "stream",
          "text": [
            
          ],
          "name": "stdout"
        }
      ]
    },
    {
      "cell_type": "code",
      "metadata": {
        "id": "x_j0VVFM5-sK",
        "colab_type": "code",
        "colab": {}
      },
      "source": [
        "img_width=64\n",
        "img_height=64"
      ],
      "execution_count": 0,
      "outputs": []
    },
    {
      "cell_type": "code",
      "metadata": {
        "id": "4AKpGh0-6bOD",
        "colab_type": "code",
        "colab": {}
      },
      "source": [
        "datagen=ImageDataGenerator(rescale=1/255.0,validation_split=0.2)"
      ],
      "execution_count": 0,
      "outputs": []
    },
    {
      "cell_type": "code",
      "metadata": {
        "id": "3Gt2taMb63C0",
        "colab_type": "code",
        "colab": {
          "base_uri": "https://localhost:8080/",
          "height": 34
        },
        "outputId": "790eef29-5356-413b-a2a7-9de9dd2cfff5"
      },
      "source": [
        "train_data=datagen.flow_from_directory(directory='/content/Malaria-Classification-Using-CNN/malaria-dataset',target_size=(img_width, img_height), class_mode='binary',batch_size=16,subset='training')"
      ],
      "execution_count": 11,
      "outputs": [
        {
          "output_type": "stream",
          "text": [
            "Found 22048 images belonging to 2 classes.\n"
          ],
          "name": "stdout"
        }
      ]
    },
    {
      "cell_type": "code",
      "metadata": {
        "id": "FpjeiS2Q8MmT",
        "colab_type": "code",
        "colab": {
          "base_uri": "https://localhost:8080/",
          "height": 34
        },
        "outputId": "05ca9c6e-9e87-43a1-8dc3-6616c0aa7c63"
      },
      "source": [
        "test_data=datagen.flow_from_directory(directory='/content/Malaria-Classification-Using-CNN/malaria-dataset', target_size=(img_width, img_height), class_mode='binary', batch_size=16, subset='validation')"
      ],
      "execution_count": 12,
      "outputs": [
        {
          "output_type": "stream",
          "text": [
            "Found 5510 images belonging to 2 classes.\n"
          ],
          "name": "stdout"
        }
      ]
    },
    {
      "cell_type": "code",
      "metadata": {
        "id": "ubs--JGX9puD",
        "colab_type": "code",
        "colab": {}
      },
      "source": [
        "model=Sequential()\n",
        "\n",
        "model.add(Conv2D(16, (3,3), input_shape=(img_width, img_height, 3), activation='relu'))\n",
        "model.add(MaxPool2D(2,2))\n",
        "model.add(Dropout(0.2))\n",
        "\n",
        "\n",
        "model.add(Conv2D(32, (3,3), activation='relu'))\n",
        "model.add(MaxPool2D(2,2))\n",
        "model.add(Dropout(0.3))\n",
        "\n",
        "\n",
        "model.add(Flatten())\n",
        "model.add(Dense(64, activation='relu'))\n",
        "model.add(Dropout(0.5))\n",
        "\n",
        "model.add(Dense(1, activation='sigmoid'))"
      ],
      "execution_count": 0,
      "outputs": []
    },
    {
      "cell_type": "code",
      "metadata": {
        "id": "8KH1qEP8_OgI",
        "colab_type": "code",
        "colab": {}
      },
      "source": [
        "model.compile(optimizer='adam', loss='binary_crossentropy', metrics=['accuracy'])"
      ],
      "execution_count": 0,
      "outputs": []
    },
    {
      "cell_type": "code",
      "metadata": {
        "id": "dTazFh7O_0AQ",
        "colab_type": "code",
        "colab": {
          "base_uri": "https://localhost:8080/",
          "height": 228
        },
        "outputId": "6138bdcf-0b53-4912-adaa-5cbbaf2a77f8"
      },
      "source": [
        "model.fit_generator(generator=train_data,steps_per_epoch=len(train_data),epochs=5,validation_data=test_data,validation_steps=len(test_data))"
      ],
      "execution_count": 46,
      "outputs": [
        {
          "output_type": "stream",
          "text": [
            "Epoch 1/5\n",
            "1378/1378 [==============================] - 111s 81ms/step - loss: 0.3877 - acc: 0.8486 - val_loss: 0.2299 - val_acc: 0.9258\n",
            "Epoch 2/5\n",
            "1378/1378 [==============================] - 110s 80ms/step - loss: 0.2276 - acc: 0.9247 - val_loss: 0.1959 - val_acc: 0.9348\n",
            "Epoch 3/5\n",
            "1378/1378 [==============================] - 111s 80ms/step - loss: 0.2034 - acc: 0.9316 - val_loss: 0.1804 - val_acc: 0.9336\n",
            "Epoch 4/5\n",
            "1378/1378 [==============================] - 111s 80ms/step - loss: 0.1916 - acc: 0.9331 - val_loss: 0.1759 - val_acc: 0.9358\n",
            "Epoch 5/5\n",
            "1378/1378 [==============================] - 111s 80ms/step - loss: 0.1839 - acc: 0.9386 - val_loss: 0.1725 - val_acc: 0.9383\n"
          ],
          "name": "stdout"
        },
        {
          "output_type": "execute_result",
          "data": {
            "text/plain": [
              "<keras.callbacks.History at 0x7fcc878c6b38>"
            ]
          },
          "metadata": {
            "tags": []
          },
          "execution_count": 46
        }
      ]
    },
    {
      "cell_type": "code",
      "metadata": {
        "id": "6MYvXn1NAjWM",
        "colab_type": "code",
        "colab": {
          "base_uri": "https://localhost:8080/",
          "height": 364
        },
        "outputId": "04ff9cc5-cc37-4b21-b134-9c568ea584bc"
      },
      "source": [
        "model.history.history"
      ],
      "execution_count": 47,
      "outputs": [
        {
          "output_type": "execute_result",
          "data": {
            "text/plain": [
              "{'acc': [0.8486484034833092,\n",
              "  0.9247097242380261,\n",
              "  0.931649129172714,\n",
              "  0.9331458635703919,\n",
              "  0.9386338896952104],\n",
              " 'loss': [0.3876861241187884,\n",
              "  0.22759301501430343,\n",
              "  0.20338651234438138,\n",
              "  0.19159953331463958,\n",
              "  0.18393553729292075],\n",
              " 'val_acc': [0.9257713248638838,\n",
              "  0.9348457350272232,\n",
              "  0.9335753176043557,\n",
              "  0.9357531760435571,\n",
              "  0.9382940108676571],\n",
              " 'val_loss': [0.22988593361987825,\n",
              "  0.1958567466444848,\n",
              "  0.18035221778654142,\n",
              "  0.175862265267357,\n",
              "  0.17249591261851593]}"
            ]
          },
          "metadata": {
            "tags": []
          },
          "execution_count": 47
        }
      ]
    },
    {
      "cell_type": "code",
      "metadata": {
        "id": "E69Vj90kDIDg",
        "colab_type": "code",
        "colab": {}
      },
      "source": [
        "def plot_learningCurve(history, epoch):\n",
        "  # Plot training & validation accuracy values\n",
        "  \n",
        "  epoch_range = range(1, epoch+1)\n",
        "  \n",
        "  # Plot training & validation loss values\n",
        "  plt.plot(epoch_range, model.history.history['loss'])\n",
        "  plt.plot(epoch_range, model.history.history['val_loss'])\n",
        "  plt.title('Model loss')\n",
        "  plt.ylabel('Loss')\n",
        "  plt.xlabel('Epoch')\n",
        "  plt.legend(['Train', 'Val'], loc='upper left')\n",
        "  plt.show()"
      ],
      "execution_count": 0,
      "outputs": []
    },
    {
      "cell_type": "code",
      "metadata": {
        "id": "uKIiLQrwGBdU",
        "colab_type": "code",
        "colab": {
          "base_uri": "https://localhost:8080/",
          "height": 295
        },
        "outputId": "560fcbf9-d607-4038-d7bd-a54a3f25f882"
      },
      "source": [
        "plot_learningCurve(model.history,5)"
      ],
      "execution_count": 50,
      "outputs": [
        {
          "output_type": "display_data",
          "data": {
            "image/png": "[encoded data removed]",
            "text/plain": [
              "<Figure size 432x288 with 1 Axes>"
            ]
          },
          "metadata": {
            "tags": []
          }
        }
      ]
    },
    {
      "cell_type": "code",
      "metadata": {
        "id": "_UXxFHA2GX1D",
        "colab_type": "code",
        "colab": {}
      },
      "source": [
        ""
      ],
      "execution_count": 0,
      "outputs": []
    }
  ]
}
